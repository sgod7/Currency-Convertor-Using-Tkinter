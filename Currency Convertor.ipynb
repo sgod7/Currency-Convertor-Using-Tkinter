{
 "cells": [
  {
   "cell_type": "code",
   "execution_count": null,
   "id": "c728f1de",
   "metadata": {},
   "outputs": [
    {
     "name": "stderr",
     "output_type": "stream",
     "text": [
      "Exception in Tkinter callback\n",
      "Traceback (most recent call last):\n",
      "  File \"C:\\Users\\astro\\anaconda3\\lib\\tkinter\\__init__.py\", line 1892, in __call__\n",
      "    return self.func(*args)\n",
      "  File \"C:\\Users\\astro\\AppData\\Local\\Temp/ipykernel_6620/2864428896.py\", line 43, in from_rs\n",
      "    USD = float(x1.value())*0.012\n",
      "AttributeError: 'NoneType' object has no attribute 'value'\n"
     ]
    }
   ],
   "source": [
    "from tkinter import *\n",
    "root = Tk()\n",
    "root.geometry(\"1500x500\")\n",
    "root.config(bg = \"yellow\")\n",
    "Font_tuple = (\"Comic Sans MS\", 20, \"bold\")\n",
    "\n",
    "def from_rs():\n",
    "    USD = float(x1.value())*0.012\n",
    "    t1.delete(\"1.0\", END)\n",
    "    t1.insert(END, USD)\n",
    "\n",
    "x = Label(root, text = \"Welcome to Currency Convertor\", width=50,height=2, bg = \"green\", fg = \"red\", font = Font_tuple).place(x=350,y=20)\n",
    "y = Label(root, text = \"Rupees to USD\", bg = \"green\", fg = \"red\", font = Font_tuple).place(x=50,y=120)\n",
    "z = Label(root, text = \"Rupees to Pounds\", bg = \"green\", fg = \"red\", font = Font_tuple).place(x=50,y=180)\n",
    "a = Label(root, text = \"USD to Rupees\", bg = \"green\", fg = \"red\", font = Font_tuple).place(x=50,y=240)\n",
    "b = Label(root, text = \"USD to Pound\", bg = \"green\", fg = \"red\", font = Font_tuple).place(x=50,y=300)\n",
    "c = Label(root, text = \"Pounds to Rupees\", bg = \"green\", fg = \"red\", font = Font_tuple).place(x=50,y=360)\n",
    "d = Label(root, text = \"Pounds to USD\", bg = \"green\", fg = \"red\", font = Font_tuple).place(x=50,y=420)\n",
    "\n",
    "x1_value = StringVar()\n",
    "x2_value = StringVar()\n",
    "x3_value = StringVar()\n",
    "x4_value = StringVar()\n",
    "x5_value = StringVar()\n",
    "x6_value = StringVar()\n",
    "\n",
    "\n",
    "x1 = Entry(root, width=20, font = Font_tuple, bg = \"cyan\", textvariable = x1_value).place(x=300, y=120)\n",
    "x2 = Entry(root, width=20, font = Font_tuple, bg = \"cyan\", textvariable = x2_value).place(x=300, y=180)\n",
    "x3 = Entry(root, width=20, font = Font_tuple, bg = \"cyan\", textvariable = x3_value).place(x=300, y=240)\n",
    "x4 = Entry(root, width=20, font = Font_tuple, bg = \"cyan\", textvariable = x4_value).place(x=300, y=300)\n",
    "x5 = Entry(root, width=20, font = Font_tuple, bg = \"cyan\", textvariable = x5_value).place(x=300, y=360)\n",
    "x6 = Entry(root, width=20, font = Font_tuple, bg = \"cyan\", textvariable = x6_value).place(x=300, y=420)\n",
    "\n",
    "Font_tuple2 = (\"Comic Sans MS\", 12, \"bold\")\n",
    "\n",
    "b1 = Button(root, text = \"CONVERT\", font = Font_tuple2, bg = \"blue\", fg = \"white\", command = from_rs).place(x=650,y=120)\n",
    "b2 = Button(root, text = \"CONVERT\", font = Font_tuple2, bg = \"blue\", fg = \"white\").place(x=650,y=180)\n",
    "b3 = Button(root, text = \"CONVERT\", font = Font_tuple2, bg = \"blue\", fg = \"white\").place(x=650,y=240)\n",
    "b4 = Button(root, text = \"CONVERT\", font = Font_tuple2, bg = \"blue\", fg = \"white\").place(x=650,y=300)\n",
    "b5 = Button(root, text = \"CONVERT\", font = Font_tuple2, bg = \"blue\", fg = \"white\").place(x=650,y=360)\n",
    "b6 = Button(root, text = \"CONVERT\", font = Font_tuple2, bg = \"blue\", fg = \"white\").place(x=650,y=420)\n",
    "\n",
    "t1 = Text(root, width = 20, height = 1, font = Font_tuple, bg = \"white\").place(x=800,y=120)\n",
    "\n",
    "\n",
    "def from_rs():\n",
    "    USD = float(x1.value())*0.012\n",
    "    t1.delete(\"1.0\", END)\n",
    "    t1.insert(END, USD)\n",
    "root.mainloop()\n",
    "\n"
   ]
  },
  {
   "cell_type": "code",
   "execution_count": null,
   "id": "48654c98",
   "metadata": {},
   "outputs": [],
   "source": []
  }
 ],
 "metadata": {
  "kernelspec": {
   "display_name": "Python 3 (ipykernel)",
   "language": "python",
   "name": "python3"
  },
  "language_info": {
   "codemirror_mode": {
    "name": "ipython",
    "version": 3
   },
   "file_extension": ".py",
   "mimetype": "text/x-python",
   "name": "python",
   "nbconvert_exporter": "python",
   "pygments_lexer": "ipython3",
   "version": "3.9.7"
  }
 },
 "nbformat": 4,
 "nbformat_minor": 5
}
